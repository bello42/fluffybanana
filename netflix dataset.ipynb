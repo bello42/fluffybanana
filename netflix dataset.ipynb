{
 "cells": [
  {
   "cell_type": "code",
   "execution_count": 5,
   "metadata": {},
   "outputs": [],
   "source": [
    "import pandas as pd\n",
    "import matplotlib.pyplot as plt\n",
    "import numpy as np\n",
    "df=pd.read_csv(\"C:/Users/hp/Desktop/Program Files/titles.csv\")"
   ]
  },
  {
   "cell_type": "code",
   "execution_count": 6,
   "metadata": {},
   "outputs": [
    {
     "name": "stdout",
     "output_type": "stream",
     "text": [
      "<class 'pandas.core.frame.DataFrame'>\n",
      "RangeIndex: 5850 entries, 0 to 5849\n",
      "Data columns (total 15 columns):\n",
      " #   Column                Non-Null Count  Dtype  \n",
      "---  ------                --------------  -----  \n",
      " 0   id                    5850 non-null   object \n",
      " 1   title                 5849 non-null   object \n",
      " 2   type                  5850 non-null   object \n",
      " 3   description           5832 non-null   object \n",
      " 4   release_year          5850 non-null   int64  \n",
      " 5   age_certification     3231 non-null   object \n",
      " 6   runtime               5850 non-null   int64  \n",
      " 7   genres                5850 non-null   object \n",
      " 8   production_countries  5850 non-null   object \n",
      " 9   seasons               2106 non-null   float64\n",
      " 10  imdb_id               5447 non-null   object \n",
      " 11  imdb_score            5368 non-null   float64\n",
      " 12  imdb_votes            5352 non-null   float64\n",
      " 13  tmdb_popularity       5759 non-null   float64\n",
      " 14  tmdb_score            5539 non-null   float64\n",
      "dtypes: float64(5), int64(2), object(8)\n",
      "memory usage: 685.7+ KB\n"
     ]
    }
   ],
   "source": [
    "df.info()"
   ]
  },
  {
   "cell_type": "code",
   "execution_count": 7,
   "metadata": {},
   "outputs": [
    {
     "data": {
      "text/plain": [
       "id                         0\n",
       "title                      1\n",
       "type                       0\n",
       "description               18\n",
       "release_year               0\n",
       "age_certification       2619\n",
       "runtime                    0\n",
       "genres                     0\n",
       "production_countries       0\n",
       "seasons                 3744\n",
       "imdb_id                  403\n",
       "imdb_score               482\n",
       "imdb_votes               498\n",
       "tmdb_popularity           91\n",
       "tmdb_score               311\n",
       "dtype: int64"
      ]
     },
     "execution_count": 7,
     "metadata": {},
     "output_type": "execute_result"
    }
   ],
   "source": [
    "df.isnull().sum()"
   ]
  },
  {
   "cell_type": "code",
   "execution_count": 8,
   "metadata": {},
   "outputs": [
    {
     "data": {
      "text/plain": [
       "id                      0\n",
       "title                   0\n",
       "type                    0\n",
       "description             0\n",
       "release_year            0\n",
       "age_certification       0\n",
       "runtime                 0\n",
       "genres                  0\n",
       "production_countries    0\n",
       "seasons                 0\n",
       "imdb_id                 0\n",
       "imdb_score              0\n",
       "imdb_votes              0\n",
       "tmdb_popularity         0\n",
       "tmdb_score              0\n",
       "dtype: int64"
      ]
     },
     "execution_count": 8,
     "metadata": {},
     "output_type": "execute_result"
    }
   ],
   "source": [
    "df.replace(np.NaN, 0, inplace=True)\n",
    "df.isnull().sum()"
   ]
  },
  {
   "cell_type": "code",
   "execution_count": 22,
   "metadata": {},
   "outputs": [],
   "source": [
    "#sorting data as MOVIE and SHOW separately\n",
    "dfm=df[df['type']=='MOVIE']\n",
    "dft=df[df['type']=='SHOW']"
   ]
  },
  {
   "cell_type": "code",
   "execution_count": 10,
   "metadata": {},
   "outputs": [
    {
     "data": {
      "text/plain": [
       "62"
      ]
     },
     "execution_count": 10,
     "metadata": {},
     "output_type": "execute_result"
    }
   ],
   "source": [
    "#finding out the distinct years of movies\n",
    "len(dfm.release_year.unique())\n"
   ]
  },
  {
   "cell_type": "code",
   "execution_count": 11,
   "metadata": {},
   "outputs": [],
   "source": [
    "#segregating movies as 1990s and 2000s\n",
    "dfmn=dfm[dfm.release_year>1999]\n",
    "dfmo=dfm[dfm.release_year<2000]"
   ]
  },
  {
   "cell_type": "code",
   "execution_count": 12,
   "metadata": {},
   "outputs": [
    {
     "data": {
      "text/plain": [
       "43"
      ]
     },
     "execution_count": 12,
     "metadata": {},
     "output_type": "execute_result"
    }
   ],
   "source": [
    "len(dfmo.imdb_score.unique())\n",
    "#finding out number of distinct ratings"
   ]
  },
  {
   "cell_type": "code",
   "execution_count": 13,
   "metadata": {},
   "outputs": [],
   "source": [
    "dfmng=dfmn[dfmn['imdb_score']>7.4]\n",
    "#finding out number of good imdb rated movies in 2000s"
   ]
  },
  {
   "cell_type": "code",
   "execution_count": 14,
   "metadata": {},
   "outputs": [],
   "source": [
    "dfmog=dfmo[dfmo['imdb_score']>7.4]\n",
    "#finding out number of good imdb rated movies in 1990s"
   ]
  },
  {
   "cell_type": "code",
   "execution_count": 15,
   "metadata": {},
   "outputs": [
    {
     "data": {
      "text/html": [
       "<div>\n",
       "<style scoped>\n",
       "    .dataframe tbody tr th:only-of-type {\n",
       "        vertical-align: middle;\n",
       "    }\n",
       "\n",
       "    .dataframe tbody tr th {\n",
       "        vertical-align: top;\n",
       "    }\n",
       "\n",
       "    .dataframe thead th {\n",
       "        text-align: right;\n",
       "    }\n",
       "</style>\n",
       "<table border=\"1\" class=\"dataframe\">\n",
       "  <thead>\n",
       "    <tr style=\"text-align: right;\">\n",
       "      <th></th>\n",
       "      <th>release_year</th>\n",
       "      <th>runtime</th>\n",
       "      <th>seasons</th>\n",
       "      <th>imdb_score</th>\n",
       "      <th>imdb_votes</th>\n",
       "      <th>tmdb_popularity</th>\n",
       "      <th>tmdb_score</th>\n",
       "    </tr>\n",
       "  </thead>\n",
       "  <tbody>\n",
       "    <tr>\n",
       "      <th>count</th>\n",
       "      <td>51.000000</td>\n",
       "      <td>51.000000</td>\n",
       "      <td>51.0</td>\n",
       "      <td>51.000000</td>\n",
       "      <td>5.100000e+01</td>\n",
       "      <td>51.000000</td>\n",
       "      <td>51.000000</td>\n",
       "    </tr>\n",
       "    <tr>\n",
       "      <th>mean</th>\n",
       "      <td>1986.235294</td>\n",
       "      <td>119.450980</td>\n",
       "      <td>0.0</td>\n",
       "      <td>7.882353</td>\n",
       "      <td>2.379234e+05</td>\n",
       "      <td>17.289843</td>\n",
       "      <td>7.477098</td>\n",
       "    </tr>\n",
       "    <tr>\n",
       "      <th>std</th>\n",
       "      <td>12.230435</td>\n",
       "      <td>38.250393</td>\n",
       "      <td>0.0</td>\n",
       "      <td>0.334488</td>\n",
       "      <td>4.435375e+05</td>\n",
       "      <td>24.656342</td>\n",
       "      <td>0.684891</td>\n",
       "    </tr>\n",
       "    <tr>\n",
       "      <th>min</th>\n",
       "      <td>1954.000000</td>\n",
       "      <td>50.000000</td>\n",
       "      <td>0.0</td>\n",
       "      <td>7.500000</td>\n",
       "      <td>7.800000e+01</td>\n",
       "      <td>0.600000</td>\n",
       "      <td>5.000000</td>\n",
       "    </tr>\n",
       "    <tr>\n",
       "      <th>25%</th>\n",
       "      <td>1979.000000</td>\n",
       "      <td>90.500000</td>\n",
       "      <td>0.0</td>\n",
       "      <td>7.600000</td>\n",
       "      <td>3.872000e+03</td>\n",
       "      <td>4.109000</td>\n",
       "      <td>7.250000</td>\n",
       "    </tr>\n",
       "    <tr>\n",
       "      <th>50%</th>\n",
       "      <td>1990.000000</td>\n",
       "      <td>114.000000</td>\n",
       "      <td>0.0</td>\n",
       "      <td>7.800000</td>\n",
       "      <td>2.858600e+04</td>\n",
       "      <td>10.010000</td>\n",
       "      <td>7.500000</td>\n",
       "    </tr>\n",
       "    <tr>\n",
       "      <th>75%</th>\n",
       "      <td>1996.500000</td>\n",
       "      <td>147.500000</td>\n",
       "      <td>0.0</td>\n",
       "      <td>8.100000</td>\n",
       "      <td>2.388810e+05</td>\n",
       "      <td>18.325500</td>\n",
       "      <td>7.844500</td>\n",
       "    </tr>\n",
       "    <tr>\n",
       "      <th>max</th>\n",
       "      <td>1999.000000</td>\n",
       "      <td>206.000000</td>\n",
       "      <td>0.0</td>\n",
       "      <td>8.800000</td>\n",
       "      <td>2.021343e+06</td>\n",
       "      <td>155.683000</td>\n",
       "      <td>8.500000</td>\n",
       "    </tr>\n",
       "  </tbody>\n",
       "</table>\n",
       "</div>"
      ],
      "text/plain": [
       "       release_year     runtime  seasons  imdb_score    imdb_votes  \\\n",
       "count     51.000000   51.000000     51.0   51.000000  5.100000e+01   \n",
       "mean    1986.235294  119.450980      0.0    7.882353  2.379234e+05   \n",
       "std       12.230435   38.250393      0.0    0.334488  4.435375e+05   \n",
       "min     1954.000000   50.000000      0.0    7.500000  7.800000e+01   \n",
       "25%     1979.000000   90.500000      0.0    7.600000  3.872000e+03   \n",
       "50%     1990.000000  114.000000      0.0    7.800000  2.858600e+04   \n",
       "75%     1996.500000  147.500000      0.0    8.100000  2.388810e+05   \n",
       "max     1999.000000  206.000000      0.0    8.800000  2.021343e+06   \n",
       "\n",
       "       tmdb_popularity  tmdb_score  \n",
       "count        51.000000   51.000000  \n",
       "mean         17.289843    7.477098  \n",
       "std          24.656342    0.684891  \n",
       "min           0.600000    5.000000  \n",
       "25%           4.109000    7.250000  \n",
       "50%          10.010000    7.500000  \n",
       "75%          18.325500    7.844500  \n",
       "max         155.683000    8.500000  "
      ]
     },
     "execution_count": 15,
     "metadata": {},
     "output_type": "execute_result"
    }
   ],
   "source": [
    "dfmog.describe()"
   ]
  },
  {
   "cell_type": "code",
   "execution_count": 16,
   "metadata": {},
   "outputs": [
    {
     "data": {
      "text/html": [
       "<div>\n",
       "<style scoped>\n",
       "    .dataframe tbody tr th:only-of-type {\n",
       "        vertical-align: middle;\n",
       "    }\n",
       "\n",
       "    .dataframe tbody tr th {\n",
       "        vertical-align: top;\n",
       "    }\n",
       "\n",
       "    .dataframe thead th {\n",
       "        text-align: right;\n",
       "    }\n",
       "</style>\n",
       "<table border=\"1\" class=\"dataframe\">\n",
       "  <thead>\n",
       "    <tr style=\"text-align: right;\">\n",
       "      <th></th>\n",
       "      <th>release_year</th>\n",
       "      <th>runtime</th>\n",
       "      <th>seasons</th>\n",
       "      <th>imdb_score</th>\n",
       "      <th>imdb_votes</th>\n",
       "      <th>tmdb_popularity</th>\n",
       "      <th>tmdb_score</th>\n",
       "    </tr>\n",
       "  </thead>\n",
       "  <tbody>\n",
       "    <tr>\n",
       "      <th>count</th>\n",
       "      <td>391.000000</td>\n",
       "      <td>391.000000</td>\n",
       "      <td>391.0</td>\n",
       "      <td>391.000000</td>\n",
       "      <td>3.910000e+02</td>\n",
       "      <td>391.000000</td>\n",
       "      <td>391.000000</td>\n",
       "    </tr>\n",
       "    <tr>\n",
       "      <th>mean</th>\n",
       "      <td>2015.501279</td>\n",
       "      <td>109.654731</td>\n",
       "      <td>0.0</td>\n",
       "      <td>7.851662</td>\n",
       "      <td>6.788052e+04</td>\n",
       "      <td>11.829449</td>\n",
       "      <td>6.976118</td>\n",
       "    </tr>\n",
       "    <tr>\n",
       "      <th>std</th>\n",
       "      <td>5.148998</td>\n",
       "      <td>34.586361</td>\n",
       "      <td>0.0</td>\n",
       "      <td>0.328151</td>\n",
       "      <td>2.147905e+05</td>\n",
       "      <td>21.048977</td>\n",
       "      <td>1.916817</td>\n",
       "    </tr>\n",
       "    <tr>\n",
       "      <th>min</th>\n",
       "      <td>2000.000000</td>\n",
       "      <td>10.000000</td>\n",
       "      <td>0.0</td>\n",
       "      <td>7.500000</td>\n",
       "      <td>0.000000e+00</td>\n",
       "      <td>0.000000</td>\n",
       "      <td>0.000000</td>\n",
       "    </tr>\n",
       "    <tr>\n",
       "      <th>25%</th>\n",
       "      <td>2013.000000</td>\n",
       "      <td>85.000000</td>\n",
       "      <td>0.0</td>\n",
       "      <td>7.600000</td>\n",
       "      <td>1.214000e+03</td>\n",
       "      <td>2.394500</td>\n",
       "      <td>7.000000</td>\n",
       "    </tr>\n",
       "    <tr>\n",
       "      <th>50%</th>\n",
       "      <td>2017.000000</td>\n",
       "      <td>107.000000</td>\n",
       "      <td>0.0</td>\n",
       "      <td>7.800000</td>\n",
       "      <td>5.161000e+03</td>\n",
       "      <td>5.110000</td>\n",
       "      <td>7.400000</td>\n",
       "    </tr>\n",
       "    <tr>\n",
       "      <th>75%</th>\n",
       "      <td>2019.000000</td>\n",
       "      <td>131.500000</td>\n",
       "      <td>0.0</td>\n",
       "      <td>8.100000</td>\n",
       "      <td>2.591050e+04</td>\n",
       "      <td>10.225000</td>\n",
       "      <td>7.700000</td>\n",
       "    </tr>\n",
       "    <tr>\n",
       "      <th>max</th>\n",
       "      <td>2022.000000</td>\n",
       "      <td>225.000000</td>\n",
       "      <td>0.0</td>\n",
       "      <td>9.100000</td>\n",
       "      <td>2.294231e+06</td>\n",
       "      <td>221.925000</td>\n",
       "      <td>10.000000</td>\n",
       "    </tr>\n",
       "  </tbody>\n",
       "</table>\n",
       "</div>"
      ],
      "text/plain": [
       "       release_year     runtime  seasons  imdb_score    imdb_votes  \\\n",
       "count    391.000000  391.000000    391.0  391.000000  3.910000e+02   \n",
       "mean    2015.501279  109.654731      0.0    7.851662  6.788052e+04   \n",
       "std        5.148998   34.586361      0.0    0.328151  2.147905e+05   \n",
       "min     2000.000000   10.000000      0.0    7.500000  0.000000e+00   \n",
       "25%     2013.000000   85.000000      0.0    7.600000  1.214000e+03   \n",
       "50%     2017.000000  107.000000      0.0    7.800000  5.161000e+03   \n",
       "75%     2019.000000  131.500000      0.0    8.100000  2.591050e+04   \n",
       "max     2022.000000  225.000000      0.0    9.100000  2.294231e+06   \n",
       "\n",
       "       tmdb_popularity  tmdb_score  \n",
       "count       391.000000  391.000000  \n",
       "mean         11.829449    6.976118  \n",
       "std          21.048977    1.916817  \n",
       "min           0.000000    0.000000  \n",
       "25%           2.394500    7.000000  \n",
       "50%           5.110000    7.400000  \n",
       "75%          10.225000    7.700000  \n",
       "max         221.925000   10.000000  "
      ]
     },
     "execution_count": 16,
     "metadata": {},
     "output_type": "execute_result"
    }
   ],
   "source": [
    "dfmng.describe()"
   ]
  },
  {
   "cell_type": "markdown",
   "metadata": {},
   "source": [
    "#check whether the average duration of movies is decreasing"
   ]
  },
  {
   "cell_type": "code",
   "execution_count": 21,
   "metadata": {},
   "outputs": [
    {
     "name": "stdout",
     "output_type": "stream",
     "text": [
      "[1976, 1972, 1975, 1967, 1979, 1971, 1980, 1961, 1966, 1954, 1958, 1977, 1969, 1963, 1956, 1960, 1973, 1974, 1959, 1978, 1990, 1987, 1984, 1989, 1983, 1986, 1981, 1988, 1985, 1982, 1996, 1995, 1997, 1994, 2000, 1999, 1998, 1992, 1993, 1991, 2007, 2004, 2002, 2003, 2010, 2006, 2005, 2008, 2009, 2001, 2012, 2011, 2014, 2013, 2016, 2015, 2018, 2017, 2019, 2020, 2022, 2021]\n"
     ]
    }
   ],
   "source": [
    "len(dfm.release_year.unique())\n",
    "years=list(dfm.release_year.unique())"
   ]
  },
  {
   "cell_type": "code",
   "execution_count": 29,
   "metadata": {},
   "outputs": [
    {
     "name": "stdout",
     "output_type": "stream",
     "text": [
      "[1976, 1972, 1975, 1967, 1979, 1971, 1980, 1961, 1966, 1954, 1958, 1977, 1969, 1963, 1956, 1960, 1973, 1974, 1959, 1978, 1990, 1987, 1984, 1989, 1983, 1986, 1981, 1988, 1985, 1982, 1996, 1995, 1997, 1994, 2000, 1999, 1998, 1992, 1993, 1991, 2007, 2004, 2002, 2003, 2010, 2006, 2005, 2008, 2009, 2001, 2012, 2011, 2014, 2013, 2016, 2015, 2018, 2017, 2019, 2020, 2022, 2021]\n",
      "[124.33333333333333, 103.0, 100.5, 130.0, 105.0, 102.0, 119.33333333333333, 158.0, 117.0, 107.5, 77.0, 150.0, 129.0, 186.0, 120.0, 158.0, 131.0, 162.0, 142.0, 141.0, 119.28571428571429, 105.8, 131.4, 104.22222222222223, 128.0, 117.0, 124.5, 114.5, 87.0, 113.6, 105.8, 126.5, 121.07142857142857, 126.58333333333333, 121.5, 123.8, 112.41176470588235, 92.0, 119.5, 88.72727272727273, 112.73684210526316, 114.48387096774194, 112.07692307692308, 111.81818181818181, 108.2127659574468, 114.4375, 120.27272727272727, 108.06382978723404, 116.925, 124.71428571428571, 111.01315789473684, 107.38333333333334, 101.01834862385321, 103.08, 94.1798245614035, 99.75373134328358, 95.87103594080338, 94.1015625, 93.91238095238096, 91.736, 96.01, 96.47145877378435]\n"
     ]
    }
   ],
   "source": [
    "y=[]\n",
    "rtm=[]\n",
    "for i in range(len(years)):\n",
    "    y.append(years[i])\n",
    "    x=dfm[dfm.release_year==years[i]]\n",
    "    z=x.runtime.mean()\n",
    "    rtm.append(z)\n",
    "print(y)\n",
    "print(rtm)"
   ]
  },
  {
   "cell_type": "code",
   "execution_count": 33,
   "metadata": {},
   "outputs": [
    {
     "data": {
      "image/png": "[encoded data removed]",
      "text/plain": [
       "<Figure size 640x480 with 1 Axes>"
      ]
     },
     "metadata": {},
     "output_type": "display_data"
    }
   ],
   "source": [
    "plt.bar(y,rtm)\n",
    "plt.xlabel('YEARS')\n",
    "plt.ylabel(\"average RUNTIME\")\n",
    "plt.show()"
   ]
  }
 ],
 "metadata": {
  "kernelspec": {
   "display_name": "Python 3",
   "language": "python",
   "name": "python3"
  },
  "language_info": {
   "codemirror_mode": {
    "name": "ipython",
    "version": 3
   },
   "file_extension": ".py",
   "mimetype": "text/x-python",
   "name": "python",
   "nbconvert_exporter": "python",
   "pygments_lexer": "ipython3",
   "version": "3.11.4"
  }
 },
 "nbformat": 4,
 "nbformat_minor": 2
}
